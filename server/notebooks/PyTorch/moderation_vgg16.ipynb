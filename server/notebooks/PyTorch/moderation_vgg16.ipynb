{
  "nbformat": 4,
  "nbformat_minor": 0,
  "metadata": {
    "colab": {
      "name": "moderation_v1(vgg16).ipynb",
      "provenance": [],
      "toc_visible": true,
      "include_colab_link": true
    },
    "kernelspec": {
      "name": "python3",
      "display_name": "Python 3"
    },
    "accelerator": "GPU"
  },
  "cells": [
    {
      "cell_type": "markdown",
      "metadata": {
        "id": "view-in-github",
        "colab_type": "text"
      },
      "source": [
        "<a href=\"https://colab.research.google.com/github/shreyanshtomar/moderation/blob/shreyansh_dev/server/notebooks/PyTorch/moderation_vgg16.ipynb\" target=\"_parent\"><img src=\"https://colab.research.google.com/assets/colab-badge.svg\" alt=\"Open In Colab\"/></a>"
      ]
    },
    {
      "cell_type": "markdown",
      "metadata": {
        "id": "KyzTqfT-__4B",
        "colab_type": "text"
      },
      "source": [
        "# Getting the data...\n",
        "\n",
        "Source: https://www.kaggle.com/omeret/nsfw-nsafe & https://www.kaggle.com/omeret/nsfw-safe.\n",
        "\n",
        "The combined dataset contains: \n",
        "* Number training images:  103518\n",
        "* Num test images:  3365"
      ]
    },
    {
      "cell_type": "markdown",
      "metadata": {
        "id": "gP4Q4efJAFy3",
        "colab_type": "text"
      },
      "source": [
        "After getting the data...\n",
        "##Importing Library and Data\n",
        "\n",
        "To begin, import the torch and torchvision frameworks and their libraries with numpy, pandas, and sklearn. Libraries and functions used in the code below include:\n",
        "\n",
        "* [transforms](https://pytorch.org/docs/stable/torchvision/transforms.html), for basic image transformation\n",
        "* [torch.nn.functional](https://pytorch.org/docs/stable/nn.functional.html), which contains useful activation functions.\n",
        "* [Dataset and Dataloader](https://pytorch.org/docs/0.3.0/torchvision/datasets.html), PyTorch's data loading utility \n",
        "\n",
        "---\n",
        "\n"
      ]
    },
    {
      "cell_type": "code",
      "metadata": {
        "id": "zX1bhSTjWHgv",
        "colab_type": "code",
        "colab": {}
      },
      "source": [
        "import copy\n",
        "import cv2                \n",
        "from glob import glob\n",
        "from io import open\n",
        "import json\n",
        "import matplotlib.image as mpimg\n",
        "import matplotlib.pyplot as plt\n",
        "import numpy as np\n",
        "import os, os.path, random\n",
        "from PIL import Image\n",
        "import requests\n",
        "import shutil\n",
        "import time\n",
        "\n",
        "import torch\n",
        "from torch.autograd import Variable\n",
        "import torch.functional as F\n",
        "import torch.nn as nn\n",
        "import torch.optim as optim\n",
        "from torch.optim import lr_scheduler\n",
        "import torchvision\n",
        "from torchvision import datasets, models, transforms\n",
        "\n",
        "plt.ion()   # interactive mode\n",
        "\n",
        "%matplotlib inline"
      ],
      "execution_count": null,
      "outputs": []
    },
    {
      "cell_type": "markdown",
      "metadata": {
        "id": "YyOVUOVIAf9u",
        "colab_type": "text"
      },
      "source": [
        "Specifying the data directories."
      ]
    },
    {
      "cell_type": "code",
      "metadata": {
        "id": "oE-LwAndCt8A",
        "colab_type": "code",
        "colab": {}
      },
      "source": [
        "data_dir = '/content/'\n",
        "train_dir = os.path.join(data_dir, 'train/')\n",
        "test_dir = os.path.join(data_dir, 'test/')\n",
        "\n",
        "# classes are folders in each directory with these names\n",
        "classes = ['nsfw','sfw']"
      ],
      "execution_count": null,
      "outputs": []
    },
    {
      "cell_type": "markdown",
      "metadata": {
        "id": "fjNBuP_yAU8e",
        "colab_type": "text"
      },
      "source": [
        "#Image Pre-processing\n",
        "\n",
        "Images in a dataset do not usually have the same pixel intensity and dimensions.\n",
        "\n",
        "You can stack multiple image transformation commands in [transform.Compose](https://pytorch.org/docs/master/torchvision/transforms.html#torchvision.transforms.Compose). Normalizing an image is an important step that makes model training stable and fast. In tranforms.Normalize() class, a list of means and standard deviations is sent in the form of a list. It uses this formula: ![alt text](https://i.imgur.com/pWSTFzG.png).\n",
        "<br>\n",
        "## Dataset Split\n",
        "\n",
        "How well the model can learn depends on the variety and volume of the data. We need to divide our data into a training set and a validation set using PyTorch's [datasets.ImageFolder](https://pytorch.org/docs/master/torchvision/datasets.html?highlight=dataset%20image#torchvision.datasets.ImageFolder) utility since we already have downloaded the dataset in train_dir and test_dir directories.\n",
        "\n",
        "**Training dataset**: The model learns from this dataset's examples. It fits a parameter to a classifier.\n",
        "\n",
        "**Validation dataset**: The examples in the validation dataset are used to tune the hyperparameters, such as learning rate and epochs. The aim of creating a validation set is to avoid large overfitting of the model. It is a checkpoint to know if the model is fitted well with the training dataset.\n",
        "\n",
        "Test dataset: This dataset test the final evolution of the model, measuring how well it has learned and predicted the desired output. It contains unseen, real-life data.\n",
        "\n"
      ]
    },
    {
      "cell_type": "code",
      "metadata": {
        "id": "Pg8C7TzpDJi5",
        "colab_type": "code",
        "colab": {
          "base_uri": "https://localhost:8080/",
          "height": 54
        },
        "outputId": "1d739935-061e-4634-966c-bd509e5d7d33"
      },
      "source": [
        "train_transforms = transforms.Compose([\n",
        "                            transforms.RandomResizedCrop(size=224),                                   \n",
        "                            transforms.RandomHorizontalFlip(),\n",
        "                            transforms.ToTensor(),\n",
        "                            transforms.Normalize((0.485, 0.456, 0.406), (0.229, 0.224, 0.225))])\n",
        "\n",
        "test_transforms = transforms.Compose([                                  \n",
        "                            transforms.Resize(256),\n",
        "                            transforms.CenterCrop(224),\n",
        "                            transforms.ToTensor(),\n",
        "                            transforms.Normalize((0.485, 0.456, 0.406), (0.229, 0.224, 0.225))])\n",
        "\n",
        "\n",
        "train_data = datasets.ImageFolder(train_dir, transform=train_transforms)\n",
        "test_data = datasets.ImageFolder(test_dir, transform=test_transforms)\n",
        "\n",
        "# print out some data stats\n",
        "print('Num training images: ', len(train_data))\n",
        "print('Num test images: ', len(test_data))"
      ],
      "execution_count": null,
      "outputs": [
        {
          "output_type": "stream",
          "text": [
            "Num training images:  103518\n",
            "Num test images:  3365\n"
          ],
          "name": "stdout"
        }
      ]
    },
    {
      "cell_type": "markdown",
      "metadata": {
        "id": "oln7OBSOAoX3",
        "colab_type": "text"
      },
      "source": [
        "Whenever you initialize the batch of images, it is on the CPU for computation by default. The function torch.cuda.is_available() will check whether a GPU is present. If CUDA is present, .device(\"cuda\") will route the tensor to the GPU for computation.\n",
        "\n",
        "The device will use CUDA with a single GPU processor. This will make our calculations faster. If you have a CPU in your system, no problem. You can use Google Colab, which provides free GPU."
      ]
    },
    {
      "cell_type": "code",
      "metadata": {
        "id": "_xo8cr93-tgS",
        "colab_type": "code",
        "colab": {
          "base_uri": "https://localhost:8080/",
          "height": 35
        },
        "outputId": "b42e50c9-ee27-4b2d-8f44-8cc20ddf6f63"
      },
      "source": [
        "# check if CUDA is available\n",
        "train_on_gpu = torch.cuda.is_available()\n",
        "\n",
        "if not train_on_gpu:\n",
        "    print('CUDA is not available.  Training on CPU ...')\n",
        "else:\n",
        "    print('CUDA is available!  Training on GPU ...')"
      ],
      "execution_count": null,
      "outputs": [
        {
          "output_type": "stream",
          "text": [
            "CUDA is available!  Training on GPU ...\n"
          ],
          "name": "stdout"
        }
      ]
    },
    {
      "cell_type": "markdown",
      "metadata": {
        "id": "fIxN9SP8AyGH",
        "colab_type": "text"
      },
      "source": [
        "\n",
        "In the code below, `dataloader` combines a dataset and a sampler and provides an iterable over the given dataset. `dataset()` indicates which dataset to load form the available data. For details, [read this documentation](https://pytorch.org/docs/stable/data.html#module-torch.utils.data).\n"
      ]
    },
    {
      "cell_type": "code",
      "metadata": {
        "id": "Z74c-DT1EBYe",
        "colab_type": "code",
        "colab": {}
      },
      "source": [
        "# define dataloader parameters\n",
        "batch_size = 128\n",
        "num_workers=0\n",
        "\n",
        "# prepare data loaders\n",
        "train_loader = torch.utils.data.DataLoader(train_data, batch_size=batch_size, \n",
        "                                           num_workers=num_workers, shuffle=True)\n",
        "test_loader = torch.utils.data.DataLoader(test_data, batch_size=batch_size, \n",
        "                                          num_workers=num_workers, shuffle=True)\n",
        "loaders_scratch = {\n",
        "    'train': train_loader,\n",
        "    'test': test_loader\n",
        "}"
      ],
      "execution_count": null,
      "outputs": []
    },
    {
      "cell_type": "markdown",
      "metadata": {
        "id": "TMtf_-mhAzo3",
        "colab_type": "text"
      },
      "source": [
        "# Visulazing the data..\n",
        "\n",
        "Note: The output of data visualisation is hidden due to it's nature."
      ]
    },
    {
      "cell_type": "code",
      "metadata": {
        "id": "0TWScgqjsKEK",
        "colab_type": "code",
        "colab": {}
      },
      "source": [
        "#encoder and decoder to convert classes into integer\n",
        "decoder = {}\n",
        "for i in range(len(classes)):\n",
        "    decoder[classes[i]] = i\n",
        "encoder = {}\n",
        "for i in range(len(classes)):\n",
        "    encoder[i] = classes[i]"
      ],
      "execution_count": null,
      "outputs": []
    },
    {
      "cell_type": "code",
      "metadata": {
        "id": "mvbNylTdsnDd",
        "colab_type": "code",
        "colab": {}
      },
      "source": [
        "inv_normalize =  transforms.Normalize(\n",
        "    mean=[-0.4302/0.2361, -0.4575/0.2347, -0.4539/0.2432],\n",
        "    std=[1/0.2361, 1/0.2347, 1/0.2432]\n",
        ")"
      ],
      "execution_count": null,
      "outputs": []
    },
    {
      "cell_type": "code",
      "metadata": {
        "id": "9kZURFwRr_5E",
        "colab_type": "code",
        "colab": {}
      },
      "source": [
        "import matplotlib.pyplot as plt\n",
        "import random\n",
        "#plotting rondom images from dataset\n",
        "n_figures = 9 # Number of images in plot\n",
        "def class_plot( data , encoder ,inv_normalizen_figures = 12):\n",
        "    n_row = int(n_figures/3)\n",
        "    fig,axes = plt.subplots(figsize=(14, 10), nrows = n_row, ncols=3)\n",
        "    for ax in axes.flatten():\n",
        "        a = random.randint(0,len(data))\n",
        "        (image,label) = data[a]\n",
        "        label = int(label)\n",
        "        l = encoder[label]\n",
        "        image = inv_normalize(image)\n",
        "        image = image.numpy().transpose(1,2,0)\n",
        "        im = ax.imshow(image)\n",
        "        ax.set_title(l)\n",
        "        ax.axis('off')\n",
        "    plt.show()\n",
        "class_plot(train_data,encoder,inv_normalize)"
      ],
      "execution_count": null,
      "outputs": []
    },
    {
      "cell_type": "markdown",
      "metadata": {
        "id": "Nz3FxxulBKLQ",
        "colab_type": "text"
      },
      "source": [
        "#Transfer Learning with Pytorch\n",
        "\n",
        "The main aim of transfer learning (TL) is to implement a model quickly. To solve the current problem, instead of creating a DNN (dense neural network) from scratch, the model will transfer the features it has learned from the different dataset that has performed the same task. This transaction is also known as knowledge transfer.\n",
        "\n",
        "<img src=\"https://i.imgur.com/3sx8Y3i.png\" width = \"600\"/>\n",
        "\n",
        "Why vgg-16?\n",
        "\n",
        "VGG16 significantly outperforms the previous generation of models in the ILSVRC-2012 and ILSVRC-2013 competitions. The VGG16 result is also competing for the classification task winner (GoogLeNet with 6.7% error) and substantially outperforms the ILSVRC-2013 winning submission Clarifai, which achieved 11.2% with external training data and 11.7% without it. Concerning the single-net performance, VGG16 architecture achieves the best result (7.0% test error), outperforming a single GoogLeNet by 0.9%.\n",
        "\n",
        "![alt text](https://neurohive.io/wp-content/uploads/2018/11/Capture-1-770x345.jpg)\n",
        "[Source](https://neurohive.io/en/popular-networks/vgg16/)\n",
        "\n",
        "\n",
        "The Pytorch API calls a pre-trained model of vgg-16 by using models.vgg16(pretrained=True), the function from TorchVision's model library. VGG-16 architecture is described below.\n",
        "\n",
        "<img src=\"https://neurohive.io/wp-content/uploads/2018/11/vgg16-neural-network.jpg\" width = \"600\"/>"
      ]
    },
    {
      "cell_type": "code",
      "metadata": {
        "id": "un6P_1F8EG7A",
        "colab_type": "code",
        "colab": {}
      },
      "source": [
        "net = models.vgg16(pretrained=True)"
      ],
      "execution_count": null,
      "outputs": []
    },
    {
      "cell_type": "code",
      "metadata": {
        "id": "ypffh-IQFGpy",
        "colab_type": "code",
        "colab": {}
      },
      "source": [
        "# Freeze training for all \"features\" layers\n",
        "for param in net.features.parameters():\n",
        "    param.requires_grad = False"
      ],
      "execution_count": null,
      "outputs": []
    },
    {
      "cell_type": "code",
      "metadata": {
        "id": "xuyk-qADFLJ5",
        "colab_type": "code",
        "colab": {
          "base_uri": "https://localhost:8080/",
          "height": 35
        },
        "outputId": "30bf9432-49d6-4c3b-99b3-fa1bb555b310"
      },
      "source": [
        "import torch.nn as nn\n",
        "\n",
        "n_inputs = net.classifier[6].in_features\n",
        "\n",
        "# add last linear layer\n",
        "# new layers automatically have requires_grad = True\n",
        "last_layer = nn.Linear(n_inputs, len(classes))\n",
        "\n",
        "net.classifier[6] = last_layer\n",
        "\n",
        "# if GPU is available, move the model to GPU\n",
        "if train_on_gpu:\n",
        "    net.cuda()\n",
        "\n",
        "# check to see that your last layer produces the expected number of outputs\n",
        "print(net.classifier[6].out_features)\n",
        "#print(net)\n",
        "\n",
        "# after completing your model, if GPU is available, move the model to GPU\n",
        "if train_on_gpu:\n",
        "    net.cuda()"
      ],
      "execution_count": null,
      "outputs": [
        {
          "output_type": "stream",
          "text": [
            "2\n"
          ],
          "name": "stdout"
        }
      ]
    },
    {
      "cell_type": "markdown",
      "metadata": {
        "id": "rYOjWpfdG6WW",
        "colab_type": "text"
      },
      "source": [
        "\n",
        "## Specifying Loss & Optimizer:\n",
        "\n",
        "Loss function and optimization go hand-in-hand. Loss function checks whether the model is moving in the correct direction and making progress, whereas optimization improves the model to deliver accurate results.\n",
        "Select any one optimizer algorithm available in the [torch.optim](https://pytorch.org/docs/master/optim.html) package. The optimizers have some elements of the gradient descent.\n",
        "\n",
        "Also, setting the hyperparameters below."
      ]
    },
    {
      "cell_type": "code",
      "metadata": {
        "id": "aowSRIgvGx2G",
        "colab_type": "code",
        "colab": {}
      },
      "source": [
        "device = torch.device(\"cuda\" if torch.cuda.is_available() else \"cpu\")\n",
        "# specify loss function (categorical cross-entropy)\n",
        "criterion = nn.CrossEntropyLoss()\n",
        "\n",
        "# specify optimizer (stochastic gradient descent) and learning rate = 0.001\n",
        "optimizer = optim.SGD(net.classifier.parameters(), lr=0.001, momentum=0.9)"
      ],
      "execution_count": null,
      "outputs": []
    },
    {
      "cell_type": "code",
      "metadata": {
        "id": "F5pBMdSCHBYB",
        "colab_type": "code",
        "colab": {}
      },
      "source": [
        "n_epochs = 4\n",
        "print_every = 10\n",
        "valid_loss_min = np.Inf\n",
        "val_loss = []\n",
        "val_acc = []\n",
        "train_loss = []\n",
        "train_acc = []\n",
        "total_step = len(train_loader)\n",
        "\n",
        "    ###################\n",
        "    # train the model #\n",
        "    ###################\n",
        "\n",
        "for epoch in range(1, n_epochs+1):\n",
        "    running_loss = 0.0\n",
        "    correct = 0\n",
        "    total=0\n",
        "    print(f'Epoch {epoch}\\n')\n",
        "    for batch_idx, (data_, target_) in enumerate(train_loader):\n",
        "        data_, target_ = data_.to(device), target_.to(device)\n",
        "        optimizer.zero_grad() # clear-the-gradients-of-all-optimized-variables\n",
        "        outputs = net(data_) # forward-pass: compute-predicted-outputs-by-passing-inputs-to-the-model\n",
        "        loss = criterion(outputs, target_) # calculate-the-batch-loss\n",
        "        loss.backward() # backward-pass: compute-gradient-of-the-loss-wrt-model-parameters\n",
        "        optimizer.step() # perform-a-ingle-optimization-step (parameter-update)\n",
        "\n",
        "        running_loss += loss.item() # update-training-loss\n",
        "        _,pred = torch.max(outputs, dim=1)\n",
        "        correct += torch.sum(pred==target_).item()\n",
        "        total += target_.size(0)\n",
        "        if (batch_idx) % 20 == 0:\n",
        "            print ('Epoch [{}/{}], Step [{}/{}], Loss: {:.4f}' \n",
        "                   .format(epoch, n_epochs, batch_idx, total_step, loss.item()))\n",
        "    train_acc.append(100 * correct / total)\n",
        "    train_loss.append(running_loss/total_step)\n",
        "    print(f'\\ntrain-loss: {np.mean(train_loss):.4f}, train-acc: {(100 * correct/total):.4f}')\n",
        "    batch_loss = 0\n",
        "    total_t=0\n",
        "    correct_t=0\n",
        "\n",
        "    ######################    \n",
        "    # validate the model #\n",
        "    ######################\n",
        "\n",
        "    with torch.no_grad():\n",
        "        net.eval()\n",
        "        for data_t, target_t in (test_loader):\n",
        "            data_t, target_t = data_t.to(device), target_t.to(device)\n",
        "            outputs_t = net(data_t) # forward-pass: compute-predicted-outputs-by-passing-inputs-to-the-model\n",
        "            loss_t = criterion(outputs_t, target_t) # calculate-the-batch-loss\n",
        "            batch_loss += loss_t.item() # update-batch_loss\n",
        "            _,pred_t = torch.max(outputs_t, dim=1)\n",
        "            correct_t += torch.sum(pred_t==target_t).item()\n",
        "            total_t += target_t.size(0)\n",
        "        val_acc.append(100 * correct_t/total_t)\n",
        "        val_loss.append(batch_loss/len(test_loader))\n",
        "        network_learned = batch_loss < valid_loss_min\n",
        "        print(f'validation loss: {np.mean(val_loss):.4f}, validation acc: {(100 * correct_t/total_t):.4f}\\n')\n",
        "\n",
        "        \n",
        "        if network_learned:\n",
        "            valid_loss_min = batch_loss\n",
        "            torch.save(net.state_dict(), 'vgg16a.pt')\n",
        "            print('Improvement-Detected, save-model')\n",
        "    net.train()\n"
      ],
      "execution_count": null,
      "outputs": []
    },
    {
      "cell_type": "code",
      "metadata": {
        "id": "0OFeAMdf3iR6",
        "colab_type": "code",
        "colab": {}
      },
      "source": [
        "test_loader = torch.utils.data.DataLoader(test_data, batch_size=batch_size, \n",
        "                                          num_workers=num_workers, shuffle=True)"
      ],
      "execution_count": null,
      "outputs": []
    },
    {
      "cell_type": "code",
      "metadata": {
        "id": "9inxX_4UMb1R",
        "colab_type": "code",
        "colab": {
          "base_uri": "https://localhost:8080/",
          "height": 90
        },
        "outputId": "e48867d0-aebc-4d4f-e9c3-a5a0491c7132"
      },
      "source": [
        "def test(loaders, model, criterion, train_on_gpu):\n",
        "\n",
        "    # monitor test loss and accuracy\n",
        "    test_loss = 0.\n",
        "    correct = 0.\n",
        "    total = 0.\n",
        "\n",
        "    for batch_idx, (data, target) in enumerate(loaders['test']):\n",
        "        # move to GPU\n",
        "        if train_on_gpu:\n",
        "            data, target = data.cuda(), target.cuda()\n",
        "        # forward pass: compute predicted outputs by passing inputs to the model\n",
        "        output = model(data)\n",
        "        # calculate the loss\n",
        "        loss = criterion(output, target)\n",
        "        # update average test loss \n",
        "        test_loss = test_loss + ((1 / (batch_idx + 1)) * (loss.data - test_loss))\n",
        "        # convert output probabilities to predicted class\n",
        "        pred = output.data.max(1, keepdim=True)[1]\n",
        "        # compare predictions to true label\n",
        "        correct += np.sum(np.squeeze(pred.eq(target.data.view_as(pred))).cpu().numpy())\n",
        "        total += data.size(0)\n",
        "            \n",
        "    print('Test Loss: {:.6f}\\n'.format(test_loss))\n",
        "\n",
        "    print('\\nTest Accuracy: %2f%% (%2d/%2d)' % (100. * correct / total, correct, total))\n",
        "\n",
        "# call test function    \n",
        "test(loaders_scratch, net, criterion, train_on_gpu)"
      ],
      "execution_count": null,
      "outputs": [
        {
          "output_type": "stream",
          "text": [
            "Test Loss: 0.149996\n",
            "\n",
            "\n",
            "Test Accuracy: 94.442793% (3178.000000/3365.000000)\n"
          ],
          "name": "stdout"
        }
      ]
    },
    {
      "cell_type": "code",
      "metadata": {
        "id": "C8auqEd60exz",
        "colab_type": "code",
        "colab": {}
      },
      "source": [
        "from PIL import Image\n",
        "import torchvision.transforms as transforms\n",
        "\n",
        "def load_input_image(img_path):    \n",
        "    image = Image.open(img_path).convert('RGB')\n",
        "    prediction_transform = transforms.Compose([transforms.Resize(size=(224, 224)),\n",
        "                                     transforms.ToTensor(), \n",
        "                                     standard_normalization])\n",
        "\n",
        "    # discard the transparent, alpha channel (that's the :3) and add the batch dimension\n",
        "    image = prediction_transform(image)[:3,:,:].unsqueeze(0)\n",
        "    return image"
      ],
      "execution_count": null,
      "outputs": []
    },
    {
      "cell_type": "code",
      "metadata": {
        "id": "vaao8vU16wmv",
        "colab_type": "code",
        "colab": {}
      },
      "source": [
        "loaders_transfer = loaders_scratch.copy()"
      ],
      "execution_count": null,
      "outputs": []
    },
    {
      "cell_type": "code",
      "metadata": {
        "id": "DS1LX-8E6cL3",
        "colab_type": "code",
        "colab": {}
      },
      "source": [
        "class_names = [item[4:].replace(\"_\", \" \") for item in loaders_transfer['train'].dataset.classes]\n",
        "\n",
        "\n",
        "def predict_nsfw(model, class_names, img_path):\n",
        "    # load the image and return the predicted breed\n",
        "    img = load_input_image(img_path)\n",
        "    model = model.cpu()\n",
        "    model.eval()\n",
        "    idx = torch.argmax(model(img))\n",
        "    return class_names[idx]"
      ],
      "execution_count": null,
      "outputs": []
    },
    {
      "cell_type": "code",
      "metadata": {
        "id": "FkmZmlrw_Qeb",
        "colab_type": "code",
        "colab": {}
      },
      "source": [
        "print(net)"
      ],
      "execution_count": null,
      "outputs": []
    },
    {
      "cell_type": "code",
      "metadata": {
        "id": "B4lHvyofAv-e",
        "colab_type": "code",
        "colab": {}
      },
      "source": [
        "torch.save(net.state_dict(), 'vgg16_c.pth')"
      ],
      "execution_count": null,
      "outputs": []
    },
    {
      "cell_type": "code",
      "metadata": {
        "id": "fmY1KssyA9o1",
        "colab_type": "code",
        "colab": {
          "base_uri": "https://localhost:8080/",
          "height": 35
        },
        "outputId": "673e6a6a-e4d4-416b-9c16-e78e96777a92"
      },
      "source": [
        "net.load_state_dict(torch.load('vgg16_c.pth'))"
      ],
      "execution_count": null,
      "outputs": [
        {
          "output_type": "execute_result",
          "data": {
            "text/plain": [
              "<All keys matched successfully>"
            ]
          },
          "metadata": {
            "tags": []
          },
          "execution_count": 85
        }
      ]
    },
    {
      "cell_type": "code",
      "metadata": {
        "id": "xVKZIL7QQ_Pj",
        "colab_type": "code",
        "colab": {}
      },
      "source": [
        "plt.plot(train_loss, label='Training loss')\n",
        "plt.plot(val_loss, label='Validation loss')\n",
        "plt.legend(frameon=False)\n",
        "plt.show()"
      ],
      "execution_count": null,
      "outputs": []
    },
    {
      "cell_type": "code",
      "metadata": {
        "id": "kQHZLoR7Bldm",
        "colab_type": "code",
        "colab": {}
      },
      "source": [
        "def test(loaders, model, criterion, train_on_gpu):\n",
        "\n",
        "    # monitor test loss and accuracy\n",
        "    test_loss = 0.\n",
        "    correct = 0.\n",
        "    total = 0.\n",
        "\n",
        "    for batch_idx, (data, target) in enumerate(loaders['test']):\n",
        "        # move to GPU\n",
        "        if train_on_gpu:\n",
        "            data, target = data.cuda(), target.cuda()\n",
        "        # forward pass: compute predicted outputs by passing inputs to the model\n",
        "        output = model(data)\n",
        "        # calculate the loss\n",
        "        loss = criterion(output, target)\n",
        "        # update average test loss \n",
        "        test_loss = test_loss + ((1 / (batch_idx + 1)) * (loss.data - test_loss))\n",
        "        # convert output probabilities to predicted class\n",
        "        pred = output.data.max(1, keepdim=True)[1]\n",
        "        # compare predictions to true label\n",
        "        correct += np.sum(np.squeeze(pred.eq(target.data.view_as(pred))).cpu().numpy())\n",
        "        total += data.size(0)\n",
        "            \n",
        "    print('Test Loss: {:.6f}\\n'.format(test_loss))\n",
        "\n",
        "    print('\\nTest Accuracy: %2f%% (%2d/%2d)' % (100. * correct / total, correct, total))"
      ],
      "execution_count": null,
      "outputs": []
    },
    {
      "cell_type": "code",
      "metadata": {
        "id": "VyH1uRboAaDF",
        "colab_type": "code",
        "colab": {
          "base_uri": "https://localhost:8080/",
          "height": 90
        },
        "outputId": "18a5bf8f-60ef-43fd-ec68-5ea4a5644587"
      },
      "source": [
        "# call test function    \n",
        "test(loaders_transfer, net, criterion, train_on_gpu)"
      ],
      "execution_count": null,
      "outputs": [
        {
          "output_type": "stream",
          "text": [
            "Test Loss: 0.147624\n",
            "\n",
            "\n",
            "Test Accuracy: 94.650817% (3185/3365)\n"
          ],
          "name": "stdout"
        }
      ]
    },
    {
      "cell_type": "code",
      "metadata": {
        "id": "iNSmRD-EAeWP",
        "colab_type": "code",
        "colab": {}
      },
      "source": [
        "def performance_matrix(true,pred):\n",
        "    precision = metrics.precision_score(true,pred,average='macro')\n",
        "    recall = metrics.recall_score(true,pred,average='macro')\n",
        "    accuracy = metrics.accuracy_score(true,pred)\n",
        "    f1_score = metrics.f1_score(true,pred,average='macro')\n",
        "    print('Confusion Matrix:\\n',metrics.confusion_matrix(true, pred))\n",
        "    print('Precision: {} Recall: {}, Accuracy: {}: ,f1_score: {}'.format(precision*100,recall*100,accuracy*100,f1_score*100))"
      ],
      "execution_count": null,
      "outputs": []
    },
    {
      "cell_type": "code",
      "metadata": {
        "id": "jmGM3EzpBs05",
        "colab_type": "code",
        "colab": {}
      },
      "source": [
        "! cp '/content/vgg16_c.pth' '/content/drive/My Drive/phase_2_chkpts'"
      ],
      "execution_count": null,
      "outputs": []
    },
    {
      "cell_type": "code",
      "metadata": {
        "id": "0Kc3SeGJQuZ1",
        "colab_type": "code",
        "colab": {}
      },
      "source": [
        "import sklearn"
      ],
      "execution_count": null,
      "outputs": []
    },
    {
      "cell_type": "code",
      "metadata": {
        "id": "xswc10l0DcGG",
        "colab_type": "code",
        "colab": {
          "base_uri": "https://localhost:8080/",
          "height": 54
        },
        "outputId": "5a8e3d48-77cb-4787-9a38-53c5a91bd37b"
      },
      "source": [
        "nb_classes = 2\n",
        "\n",
        "confusion_matrix = torch.zeros(nb_classes, nb_classes)\n",
        "with torch.no_grad():\n",
        "    for i, (inputs, classes) in enumerate(loaders_transfer['test']):\n",
        "        inputs = inputs.to(device)\n",
        "        classes = classes.to(device)\n",
        "        outputs = net(inputs)\n",
        "        _, preds = torch.max(outputs, 1)\n",
        "        for t, p in zip(classes.view(-1), preds.view(-1)):\n",
        "                confusion_matrix[t.long(), p.long()] += 1\n",
        "\n",
        "print(confusion_matrix)"
      ],
      "execution_count": null,
      "outputs": [
        {
          "output_type": "stream",
          "text": [
            "tensor([[1600.,   69.],\n",
            "        [ 127., 1569.]])\n"
          ],
          "name": "stdout"
        }
      ]
    },
    {
      "cell_type": "markdown",
      "metadata": {
        "id": "A86euVfSGIgv",
        "colab_type": "text"
      },
      "source": [
        "### per-class confusion matrix"
      ]
    },
    {
      "cell_type": "code",
      "metadata": {
        "id": "tzqG0iklFaOv",
        "colab_type": "code",
        "colab": {
          "base_uri": "https://localhost:8080/",
          "height": 35
        },
        "outputId": "8916d8cc-7168-46b7-c98f-398c41f9e914"
      },
      "source": [
        "print(confusion_matrix.diag()/confusion_matrix.sum(1))"
      ],
      "execution_count": null,
      "outputs": [
        {
          "output_type": "stream",
          "text": [
            "tensor([0.9605, 0.9228])\n"
          ],
          "name": "stdout"
        }
      ]
    },
    {
      "cell_type": "code",
      "metadata": {
        "id": "4pjJEQ1wHkFW",
        "colab_type": "code",
        "colab": {}
      },
      "source": [
        "import numpy as np\n",
        "import pandas as pd\n",
        "import seaborn as sns\n",
        "from sklearn.metrics import classification_report, confusion_matrix"
      ],
      "execution_count": null,
      "outputs": []
    },
    {
      "cell_type": "code",
      "metadata": {
        "id": "0fHkElX7H0FE",
        "colab_type": "code",
        "colab": {}
      },
      "source": [
        "cm = confusion_matrix.numpy().astype(int)"
      ],
      "execution_count": null,
      "outputs": []
    },
    {
      "cell_type": "code",
      "metadata": {
        "id": "vNDzyPaGJamV",
        "colab_type": "code",
        "colab": {}
      },
      "source": [
        "df = pd.DataFrame(data=cm, index=[\"nsfw\", \"sfw\"], columns=[\"nsfw\", \"sfw\"])"
      ],
      "execution_count": null,
      "outputs": []
    },
    {
      "cell_type": "code",
      "metadata": {
        "id": "3-MbTki-Js6f",
        "colab_type": "code",
        "colab": {
          "base_uri": "https://localhost:8080/",
          "height": 396
        },
        "outputId": "3d874a5f-d683-42cd-9491-ea3b260a4279"
      },
      "source": [
        "plt.figure(figsize=(6,6))\n",
        "sns.heatmap(df, annot=True, annot_kws={\"size\": 10},fmt=\"d\")"
      ],
      "execution_count": null,
      "outputs": [
        {
          "output_type": "execute_result",
          "data": {
            "text/plain": [
              "<matplotlib.axes._subplots.AxesSubplot at 0x7fba69b865c0>"
            ]
          },
          "metadata": {
            "tags": []
          },
          "execution_count": 132
        },
        {
          "output_type": "display_data",
          "data": {
            "image/png": "[encoded data removed]",
            "text/plain": [
              "<Figure size 432x432 with 2 Axes>"
            ]
          },
          "metadata": {
            "tags": [],
            "needs_background": "light"
          }
        }
      ]
    },
    {
      "cell_type": "code",
      "metadata": {
        "id": "SgT4eG1EJzkg",
        "colab_type": "code",
        "colab": {}
      },
      "source": [
        ""
      ],
      "execution_count": null,
      "outputs": []
    }
  ]
}